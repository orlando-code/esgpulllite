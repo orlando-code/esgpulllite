{
 "cells": [
  {
   "cell_type": "markdown",
   "id": "fd8148c6",
   "metadata": {},
   "source": [
    "# Using EsgpullAPI for File Search and Download\n",
    "This notebook demonstrates how to use the `EsgpullAPI` to search for climate data files and download them programmatically using `esgpull`."
   ]
  },
  {
   "cell_type": "markdown",
   "id": "7049800e",
   "metadata": {},
   "source": [
    "## Setup\n",
    "First, we import the `EsgpullAPI`. When initializing `EsgpullAPI()`, it will automatically try to locate your `esgpull` configuration file (e.g., `config.toml` typically found in `~/.config/esgpull/`). This file contains settings for data download locations, authentication, search preferences, and other `esgpull` behaviors.\n",
    "If your configuration file is in a non-standard location, or if you want to use a specific configuration for your script, you can optionally provide the `config_path` argument during initialization (e.g., `EsgpullAPI(config_path='/path/to/your/config.toml')`)."
   ]
  },
  {
   "cell_type": "code",
   "execution_count": 1,
   "id": "44ad3f40",
   "metadata": {},
   "outputs": [
    {
     "name": "stdout",
     "output_type": "stream",
     "text": [
      "Attempting to initialize EsgpullAPI using default configuration search...\n",
      "EsgpullAPI initialized successfully using default configuration.\n"
     ]
    }
   ],
   "source": [
    "%reload_ext autoreload\n",
    "%autoreload 2\n",
    "from esgpull.api import EsgpullAPI\n",
    "import json # For pretty printing results\n",
    "import os\n",
    "\n",
    "# Initialize EsgpullAPI.\n",
    "# By default, EsgpullAPI() will attempt to find the esgpull configuration file\n",
    "# in its standard locations (e.g., ~/.config/esgpull/config.toml).\n",
    "api = None\n",
    "try:\n",
    "    print(\"Attempting to initialize EsgpullAPI using default configuration search...\")\n",
    "    api = EsgpullAPI() # Initialize with default config search\n",
    "    print(\"EsgpullAPI initialized successfully using default configuration.\")\n",
    "except Exception as e_default:\n",
    "    print(f\"Error initializing EsgpullAPI with default configuration: {e_default}\")\n",
    "    print(\"This might mean esgpull is not installed, no configuration file was found in standard locations, or the found config is invalid.\")\n",
    "    print(\"Please ensure esgpull is correctly set up (e.g., run `esgpull install config` or create `~/.config/esgpull/config.toml`).\")\n",
    "    print(\"\\nAlternatively, if you have a configuration file in a custom location, you can specify its path below:\")\n",
    "\n",
    "    # OPTIONAL: Specify a path to your esgpull configuration file if the default search fails or you want to override.\n",
    "    # Example: config_path_override = os.path.expanduser(\"~/custom_esgpull_configs/my_project_config.toml\")\n",
    "    config_path_override = None  # Set to a path string if you want to use a specific config file\n",
    "\n",
    "    if isinstance(config_path_override, str) and os.path.exists(config_path_override):\n",
    "        print(f\"\\nAttempting to initialize EsgpullAPI with specified config: {config_path_override}\")\n",
    "        try:\n",
    "            api = EsgpullAPI(config_path=config_path_override)\n",
    "            print(f\"EsgpullAPI initialized successfully with {config_path_override}.\")\n",
    "        except Exception as e_override:\n",
    "            print(f\"Error initializing EsgpullAPI with specified config '{config_path_override}': {e_override}\")\n",
    "            print(\"Please ensure the path is correct and the file is a valid esgpull configuration.\")\n",
    "    elif isinstance(config_path_override, str): # Path was specified but not found\n",
    "         print(f\"\\nSpecified configuration file not found: {config_path_override}. Please check the path.\")\n",
    "\n",
    "if not api:\n",
    "    print(\"\\nEsgpullAPI could not be initialized. Subsequent cells may not work as expected.\")\n",
    "    print(\"Ensure esgpull is configured correctly or provide a valid config_path if needed.\")\n",
    "\n",
    "# If initialization failed, subsequent cells using `api` will likely raise errors or be skipped by the 'if api:' checks."
   ]
  },
  {
   "cell_type": "markdown",
   "id": "927f6f8b",
   "metadata": {},
   "source": [
    "## 1. Searching for Files\n",
    "We can search for files using a dictionary of search criteria. The criteria correspond to facets used in ESGF search (e.g., `project`, `experiment_id`, `variable`, `frequency`). The `api.search()` method directly queries ESGF nodes based on these criteria."
   ]
  },
  {
   "cell_type": "code",
   "execution_count": 2,
   "id": "66d9c879",
   "metadata": {},
   "outputs": [
    {
     "name": "stdout",
     "output_type": "stream",
     "text": [
      "Searching ESGF with criteria: {\n",
      "  \"project\": \"CMIP6\",\n",
      "  \"experiment_id\": \"historical\",\n",
      "  \"variable\": \"tas\",\n",
      "  \"frequency\": \"mon\",\n",
      "  \"limit\": 100\n",
      "}\n",
      "Found 100 (of 100 allowed) files/datasets matching the criteria from the ESGF node.\n",
      "Showing details for the first 3 results:\n",
      "\n",
      "Result 1:\n",
      "{\n",
      "  \"file_id\": \"CMIP6.CMIP.AS-RCEC.TaiESM1.historical.r1i1p1f1.Amon.tas.gn.v20200623.tas_Amon_TaiESM1_historical_r1i1p1f1_gn_185001-201412.nc\",\n",
      "  \"dataset_id\": \"CMIP6.CMIP.AS-RCEC.TaiESM1.historical.r1i1p1f1.Amon.tas.gn.v20200623\",\n",
      "  \"master_id\": \"CMIP6.CMIP.AS-RCEC.TaiESM1.historical.r1i1p1f1.Amon.tas.gn.tas_Amon_TaiESM1_historical_r1i1p1f1_gn_185001-201412.nc\",\n",
      "  \"url\": \"https://esgf-data1.llnl.gov/thredds/fileServer/css03_data/CMIP6/CMIP/AS-RCEC/TaiESM1/historical/r1i1p1f1/Amon/tas/gn/v20200623/tas_Amon_TaiESM1_historical_r1i1p1f1_gn_185001-201412.nc\",\n",
      "  \"version\": \"v20200623\",\n",
      "  \"filename\": \"tas_Amon_TaiESM1_historical_r1i1p1f1_gn_185001-201412.nc\",\n",
      "  \"local_path\": \"CMIP6/CMIP/AS-RCEC/TaiESM1/historical/r1i1p1f1/Amon/tas/gn/v20200623\",\n",
      "  \"data_node\": \"esgf-data1.llnl.gov\",\n",
      "  \"checksum\": \"00ca5277ccf5f651c8a12fde276fddacb1b3f9161b0d401a8a394ead7719c77f\",\n",
      "  \"checksum_type\": \"SHA256\",\n",
      "  \"size\": 243056081,\n",
      "  \"status\": \"New\"\n",
      "}\n",
      "\n",
      "Result 2:\n",
      "{\n",
      "  \"file_id\": \"CMIP6.CMIP.AS-RCEC.TaiESM1.historical.r1i1p1f1.Amon.tas.gn.v20200623.tas_Amon_TaiESM1_historical_r1i1p1f1_gn_185001-201412.nc\",\n",
      "  \"dataset_id\": \"CMIP6.CMIP.AS-RCEC.TaiESM1.historical.r1i1p1f1.Amon.tas.gn.v20200623\",\n",
      "  \"master_id\": \"CMIP6.CMIP.AS-RCEC.TaiESM1.historical.r1i1p1f1.Amon.tas.gn.tas_Amon_TaiESM1_historical_r1i1p1f1_gn_185001-201412.nc\",\n",
      "  \"url\": \"https://esgf.ceda.ac.uk/thredds/fileServer/esg_cmip6/CMIP6/CMIP/AS-RCEC/TaiESM1/historical/r1i1p1f1/Amon/tas/gn/v20200623/tas_Amon_TaiESM1_historical_r1i1p1f1_gn_185001-201412.nc\",\n",
      "  \"version\": \"v20200623\",\n",
      "  \"filename\": \"tas_Amon_TaiESM1_historical_r1i1p1f1_gn_185001-201412.nc\",\n",
      "  \"local_path\": \"CMIP6/CMIP/AS-RCEC/TaiESM1/historical/r1i1p1f1/Amon/tas/gn/v20200623\",\n",
      "  \"data_node\": \"esgf.ceda.ac.uk\",\n",
      "  \"checksum\": \"00ca5277ccf5f651c8a12fde276fddacb1b3f9161b0d401a8a394ead7719c77f\",\n",
      "  \"checksum_type\": \"SHA256\",\n",
      "  \"size\": 243056081,\n",
      "  \"status\": \"New\"\n",
      "}\n",
      "\n",
      "Result 3:\n",
      "{\n",
      "  \"file_id\": \"CMIP6.CMIP.AS-RCEC.TaiESM1.historical.r1i1p1f1.Amon.tas.gn.v20200623.tas_Amon_TaiESM1_historical_r1i1p1f1_gn_185001-201412.nc\",\n",
      "  \"dataset_id\": \"CMIP6.CMIP.AS-RCEC.TaiESM1.historical.r1i1p1f1.Amon.tas.gn.v20200623\",\n",
      "  \"master_id\": \"CMIP6.CMIP.AS-RCEC.TaiESM1.historical.r1i1p1f1.Amon.tas.gn.tas_Amon_TaiESM1_historical_r1i1p1f1_gn_185001-201412.nc\",\n",
      "  \"url\": \"https://esgf-data04.diasjp.net/thredds/fileServer/esg_dataroot/CMIP6/CMIP/AS-RCEC/TaiESM1/historical/r1i1p1f1/Amon/tas/gn/v20200623/tas_Amon_TaiESM1_historical_r1i1p1f1_gn_185001-201412.nc\",\n",
      "  \"version\": \"v20200623\",\n",
      "  \"filename\": \"tas_Amon_TaiESM1_historical_r1i1p1f1_gn_185001-201412.nc\",\n",
      "  \"local_path\": \"CMIP6/CMIP/AS-RCEC/TaiESM1/historical/r1i1p1f1/Amon/tas/gn/v20200623\",\n",
      "  \"data_node\": \"esgf-data04.diasjp.net\",\n",
      "  \"checksum\": \"00ca5277ccf5f651c8a12fde276fddacb1b3f9161b0d401a8a394ead7719c77f\",\n",
      "  \"checksum_type\": \"SHA256\",\n",
      "  \"size\": 243056081,\n",
      "  \"status\": \"New\"\n",
      "}\n"
     ]
    }
   ],
   "source": [
    "max_files = 100\n",
    "# Define search criteria\n",
    "# These are examples, adjust them to your needs and available data on ESGF nodes.\n",
    "search_criteria = {\n",
    "    \"project\": \"CMIP6\",\n",
    "    \"experiment_id\": \"historical\",\n",
    "    \"variable\": \"tas\",  # Near-surface air temperature\n",
    "    \"frequency\": \"mon\", # Monthly\n",
    "    # \"data_node\": \"esgf-data.dkrz.de\", # Optional: specify a data node to query\n",
    "    # Add other facets as needed, e.g., \"source_id\", \"variant_label\"\n",
    "    \"limit\": max_files # Optional: limit the number of results returned by the search query to the node\n",
    "}\n",
    "\n",
    "if api:\n",
    "    print(f\"Searching ESGF with criteria: {json.dumps(search_criteria, indent=2)}\")\n",
    "    try:\n",
    "        search_results = api.search(criteria=search_criteria)\n",
    "        if search_results:\n",
    "            print(f\"Found {len(search_results)} (of {max_files} allowed) files/datasets matching the criteria from the ESGF node.\")\n",
    "            print(f\"Showing details for the first {min(3, len(search_results))} results:\")\n",
    "            for i, result in enumerate(search_results[:3]): # Print first 3 results\n",
    "                print(f\"\\nResult {i+1}:\")\n",
    "                print(json.dumps(result, indent=2)) # `result` is a dictionary of file/dataset attributes\n",
    "        else:\n",
    "            print(\"No results found from ESGF for the given criteria.\")\n",
    "    except Exception as e:\n",
    "        print(f\"Error during ESGF search: {e}\")\n",
    "else:\n",
    "    print(\"API not initialized. Skipping ESGF search.\")"
   ]
  },
  {
   "cell_type": "markdown",
   "id": "6c026df2",
   "metadata": {},
   "source": [
    "## 2. Adding a Query to Track and Download\n",
    "To manage and download files with `esgpull`, we first add a query to its internal database. This query defines the set of files we are interested in based on specified criteria. \n",
    "The `api.add()` method is used for this. It requires a dictionary of criteria, which **must include a unique `name` field**. This `name` serves as the `query_id` for all subsequent operations like downloading, updating, or tracking the query.\n",
    "If a query with the given `name` already exists, `api.add()` will typically update its definition.\n",
    "When a query is added or updated, `esgpull` may perform a search on ESGF nodes to find matching files and record them in its database, associating them with this query name."
   ]
  },
  {
   "cell_type": "code",
   "execution_count": 3,
   "id": "b5d3e5fc",
   "metadata": {},
   "outputs": [
    {
     "name": "stdout",
     "output_type": "stream",
     "text": [
      "Adding or updating query in esgpull database with criteria: {\n",
      "  \"name\": \"my_cmip6_tas_historical_demo_query\",\n",
      "  \"project\": \"CMIP6\",\n",
      "  \"experiment_id\": \"historical\",\n",
      "  \"variable\": \"tas\",\n",
      "  \"frequency\": \"mon\",\n",
      "  \"data_node\": \"esgf-data.dkrz.de\",\n",
      "  \"limit\": 10\n",
      "}\n",
      "Error adding/updating query 'my_cmip6_tas_historical_demo_query': (sqlite3.IntegrityError) UNIQUE constraint failed: tag.sha\n",
      "[SQL: INSERT INTO tag (name, description, sha) VALUES (?, ?, ?)]\n",
      "[parameters: ('name:my_cmip6_tas_historical_demo_query', None, '800fc337cbb10f0a14f17696b757100d2f17e678')]\n",
      "(Background on this error at: https://sqlalche.me/e/20/gkpj)\n"
     ]
    }
   ],
   "source": [
    "# Define criteria for the query we want to add to esgpull's database.\n",
    "# This must include a unique 'name' for the query, which will serve as its ID.\n",
    "query_name = \"my_cmip6_tas_historical_demo_query\" # Ensure this is unique for your esgpull DB\n",
    "add_criteria = {\n",
    "    \"name\": query_name,\n",
    "    \"project\": \"CMIP6\",\n",
    "    \"experiment_id\": \"historical\",\n",
    "    \"variable\": \"tas\",\n",
    "    \"frequency\": \"mon\",\n",
    "    \"data_node\": \"esgf-data.dkrz.de\", # Optional, but good for consistency if used in search\n",
    "    # To be more specific and control the files associated with this query,\n",
    "    # you might add 'source_id', 'variant_label', etc., based on prior search results.\n",
    "    # For example:\n",
    "    # \"source_id\": \"ACCESS-CM2\",\n",
    "    # \"variant_label\": \"r1i1p1f1\",\n",
    "    \"limit\": 10 # `esgpull` uses this to limit files initially fetched for this query from ESGF\n",
    "}\n",
    "\n",
    "if api:\n",
    "    print(f\"Adding or updating query in esgpull database with criteria: {json.dumps(add_criteria, indent=2)}\")\n",
    "    try:\n",
    "        # Add the query. track=False means it won't be auto-updated by a default scheduler.\n",
    "        api.add(criteria=add_criteria, track=False)\n",
    "        print(f\"Query '{query_name}' added/updated successfully in esgpull database.\")\n",
    "        print(f\"This query can now be referred to by its name (query_id): {query_name}\")\n",
    "        print(\"Note: After adding/updating, esgpull should have identified matching files from ESGF.\")\n",
    "        print(\"You can run `api.update(query_id=query_name)` to explicitly refresh the file list for this query from ESGF nodes.\")\n",
    "    except Exception as e:\n",
    "        print(f\"Error adding/updating query '{query_name}': {e}\")\n",
    "else:\n",
    "    print(\"API not initialized. Skipping add query.\")"
   ]
  },
  {
   "cell_type": "markdown",
   "id": "734c3e73",
   "metadata": {},
   "source": [
    "## 3. Downloading Files for the Query\n",
    "Once a query is added to `esgpull` (and potentially updated to discover all relevant files from ESGF), we can use its `name` (which serves as `query_id`) to download the associated files.\n",
    "The `api.download()` method will attempt to download files linked to this query that are in a 'queued' state (i.e., identified by `esgpull` as ready for download and not yet downloaded or failed too many times)."
   ]
  },
  {
   "cell_type": "code",
   "execution_count": 4,
   "id": "565ddd0d",
   "metadata": {},
   "outputs": [
    {
     "name": "stdout",
     "output_type": "stream",
     "text": [
      "Attempting to download files for query_id: 'my_cmip6_tas_historical_demo_query'\n",
      "Error during download for query 'my_cmip6_tas_historical_demo_query': 'my_cmip6_tas_historical_demo_query'\n"
     ]
    }
   ],
   "source": [
    "# The query_id is the name we assigned when adding the query.\n",
    "# Ensure query_name is defined from the previous cell's execution.\n",
    "query_to_download = query_name if 'query_name' in locals() and query_name else None\n",
    "\n",
    "if api and query_to_download:\n",
    "    print(f\"Attempting to download files for query_id: '{query_to_download}'\")\n",
    "    try:\n",
    "        # Optional: It's often a good idea to update the query before downloading.\n",
    "        # This ensures esgpull has the latest list of files from ESGF for this query.\n",
    "        # print(f\"Updating query '{query_to_download}' to refresh file list from ESGF nodes...\")\n",
    "        # updated_file_infos = api.update(query_id=query_to_download) # Returns list of all files for query\n",
    "        # print(f\"Query update complete. {len(updated_file_infos)} files are now associated with '{query_to_download}'.\")\n",
    "        # print(\"Files that are new and match the criteria will be in 'queued' status.\")\n",
    "\n",
    "        # Now, attempt to download the queued files for this query.\n",
    "        download_results = api.download(query_id=query_to_download)\n",
    "        \n",
    "        if download_results:\n",
    "            print(f\"Download command processed. {len(download_results)} files were handled (e.g., downloaded, already exist, or failed).\")\n",
    "            print(\"Details of files processed by the download command:\")\n",
    "            for i, file_info in enumerate(download_results):\n",
    "                print(f\"\\nFile {i+1}:\")\n",
    "                print(json.dumps(file_info, indent=2))\n",
    "                # Common fields: 'filename', 'status' (e.g., 'done', 'error', 'queued', 'skipped'), 'local_path', 'size', 'checksum'\n",
    "        else:\n",
    "            print(f\"No files were processed by the download command for query '{query_to_download}'.\")\n",
    "            print(\"This could mean:\")\n",
    "            print(\"  - No files are currently in 'queued' state for this query (e.g., all downloaded, or none matched).\")\n",
    "            print(\"  - The query criteria might not match any downloadable files on the ESGF nodes.\")\n",
    "            print(\"  - Consider running `api.update(query_id=query_name)` if you suspect the file list is stale or files are missing.\")\n",
    "            print(\"  - Check `esgpull` logs (if configured) for more detailed information if downloads are expected but not happening.\")\n",
    "\n",
    "    except Exception as e:\n",
    "        print(f\"Error during download for query '{query_to_download}': {e}\")\n",
    "elif not api:\n",
    "    print(\"API not initialized. Skipping download.\")\n",
    "else: # query_to_download is None\n",
    "    print(\"Query name ('query_name') is not defined. Ensure the 'Add Query' step was successful before running download.\")\n",
    "\n",
    "# Downloaded files will be located in the directory specified in your esgpull configuration's `data_path` (or similar setting)."
   ]
  },
  {
   "cell_type": "markdown",
   "id": "40417b66",
   "metadata": {},
   "source": [
    "## Further Actions\n",
    "- **Update Query**: Use `api.update(query_id)` to refresh a query. This contacts ESGF nodes, finds all matching files according to the query's criteria, and updates `esgpull`'s database. Files new to `esgpull` will typically be set to 'queued' status.\n",
    "- **Track Query**: Use `api.track(query_id)` to mark an existing query for automatic tracking by `esgpull`'s scheduler (if a scheduler is configured and running). Tracked queries are periodically updated.\n",
    "- **List/Get Queries**: While not explicitly shown, a complete API might offer ways to list all queries in the database or get a specific query's details to find its `name`/`query_id` if forgotten.\n",
    "- **Configuration**: Ensure your `esgpull` `config.toml` is correctly set up, especially paths for data storage (`data_path`), authentication details if required for certain nodes, and any specific search or download preferences.\n",
    "- **Explore**: Check the `esgpull` documentation and the `EsgpullAPI` source code (`esgpull/api.py`) for more details on available methods, parameters, and the structure of returned data."
   ]
  }
 ],
 "metadata": {
  "kernelspec": {
   "display_name": "esgpull-plus",
   "language": "python",
   "name": "python3"
  },
  "language_info": {
   "codemirror_mode": {
    "name": "ipython",
    "version": 3
   },
   "file_extension": ".py",
   "mimetype": "text/x-python",
   "name": "python",
   "nbconvert_exporter": "python",
   "pygments_lexer": "ipython3",
   "version": "3.13.3"
  }
 },
 "nbformat": 4,
 "nbformat_minor": 5
}
